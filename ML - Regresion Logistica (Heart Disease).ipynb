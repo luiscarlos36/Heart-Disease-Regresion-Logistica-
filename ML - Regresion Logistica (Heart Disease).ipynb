{
 "cells": [
  {
   "cell_type": "markdown",
   "id": "7d748330",
   "metadata": {},
   "source": [
    "# Evaluación de un Modelo de Regresión Logística\n",
    "\n",
    "En esta lámina realizaremos un modelo de \"regresión logística\" y se lo aplicaremos a un dataset llamado \"Heart Disease UCI\". Se trata de determinar qué tan efectivo resulta ser el modelo para predecir correctamente si una persona está o no en riesgo de padecer un ataque cardíaco."
   ]
  },
  {
   "cell_type": "code",
   "execution_count": 1,
   "id": "553565e4",
   "metadata": {},
   "outputs": [],
   "source": [
    "# Importamos las librerías necesarias\n",
    "\n",
    "%matplotlib inline\n",
    "import matplotlib.pyplot as plt\n",
    "import pandas as pd\n",
    "import numpy as np"
   ]
  },
  {
   "cell_type": "code",
   "execution_count": 2,
   "id": "eaa0ab3b",
   "metadata": {},
   "outputs": [],
   "source": [
    "# Leemos el archivo\n",
    "heart = pd.read_csv('C:\\\\Users\\\\Luis Carlos\\\\Documents\\\\CSVs\\\\heart.csv')"
   ]
  },
  {
   "cell_type": "code",
   "execution_count": 3,
   "id": "cf5375f3",
   "metadata": {
    "scrolled": true
   },
   "outputs": [
    {
     "data": {
      "text/html": [
       "<div>\n",
       "<style scoped>\n",
       "    .dataframe tbody tr th:only-of-type {\n",
       "        vertical-align: middle;\n",
       "    }\n",
       "\n",
       "    .dataframe tbody tr th {\n",
       "        vertical-align: top;\n",
       "    }\n",
       "\n",
       "    .dataframe thead th {\n",
       "        text-align: right;\n",
       "    }\n",
       "</style>\n",
       "<table border=\"1\" class=\"dataframe\">\n",
       "  <thead>\n",
       "    <tr style=\"text-align: right;\">\n",
       "      <th></th>\n",
       "      <th>age</th>\n",
       "      <th>sex</th>\n",
       "      <th>cp</th>\n",
       "      <th>trestbps</th>\n",
       "      <th>chol</th>\n",
       "      <th>fbs</th>\n",
       "      <th>restecg</th>\n",
       "      <th>thalach</th>\n",
       "      <th>exang</th>\n",
       "      <th>oldpeak</th>\n",
       "      <th>slope</th>\n",
       "      <th>ca</th>\n",
       "      <th>thal</th>\n",
       "      <th>target</th>\n",
       "    </tr>\n",
       "  </thead>\n",
       "  <tbody>\n",
       "    <tr>\n",
       "      <th>0</th>\n",
       "      <td>63</td>\n",
       "      <td>1</td>\n",
       "      <td>3</td>\n",
       "      <td>145</td>\n",
       "      <td>233</td>\n",
       "      <td>1</td>\n",
       "      <td>0</td>\n",
       "      <td>150</td>\n",
       "      <td>0</td>\n",
       "      <td>2.3</td>\n",
       "      <td>0</td>\n",
       "      <td>0</td>\n",
       "      <td>1</td>\n",
       "      <td>1</td>\n",
       "    </tr>\n",
       "    <tr>\n",
       "      <th>1</th>\n",
       "      <td>37</td>\n",
       "      <td>1</td>\n",
       "      <td>2</td>\n",
       "      <td>130</td>\n",
       "      <td>250</td>\n",
       "      <td>0</td>\n",
       "      <td>1</td>\n",
       "      <td>187</td>\n",
       "      <td>0</td>\n",
       "      <td>3.5</td>\n",
       "      <td>0</td>\n",
       "      <td>0</td>\n",
       "      <td>2</td>\n",
       "      <td>1</td>\n",
       "    </tr>\n",
       "    <tr>\n",
       "      <th>2</th>\n",
       "      <td>41</td>\n",
       "      <td>0</td>\n",
       "      <td>1</td>\n",
       "      <td>130</td>\n",
       "      <td>204</td>\n",
       "      <td>0</td>\n",
       "      <td>0</td>\n",
       "      <td>172</td>\n",
       "      <td>0</td>\n",
       "      <td>1.4</td>\n",
       "      <td>2</td>\n",
       "      <td>0</td>\n",
       "      <td>2</td>\n",
       "      <td>1</td>\n",
       "    </tr>\n",
       "    <tr>\n",
       "      <th>3</th>\n",
       "      <td>56</td>\n",
       "      <td>1</td>\n",
       "      <td>1</td>\n",
       "      <td>120</td>\n",
       "      <td>236</td>\n",
       "      <td>0</td>\n",
       "      <td>1</td>\n",
       "      <td>178</td>\n",
       "      <td>0</td>\n",
       "      <td>0.8</td>\n",
       "      <td>2</td>\n",
       "      <td>0</td>\n",
       "      <td>2</td>\n",
       "      <td>1</td>\n",
       "    </tr>\n",
       "    <tr>\n",
       "      <th>4</th>\n",
       "      <td>57</td>\n",
       "      <td>0</td>\n",
       "      <td>0</td>\n",
       "      <td>120</td>\n",
       "      <td>354</td>\n",
       "      <td>0</td>\n",
       "      <td>1</td>\n",
       "      <td>163</td>\n",
       "      <td>1</td>\n",
       "      <td>0.6</td>\n",
       "      <td>2</td>\n",
       "      <td>0</td>\n",
       "      <td>2</td>\n",
       "      <td>1</td>\n",
       "    </tr>\n",
       "  </tbody>\n",
       "</table>\n",
       "</div>"
      ],
      "text/plain": [
       "   age  sex  cp  trestbps  chol  fbs  restecg  thalach  exang  oldpeak  slope  \\\n",
       "0   63    1   3       145   233    1        0      150      0      2.3      0   \n",
       "1   37    1   2       130   250    0        1      187      0      3.5      0   \n",
       "2   41    0   1       130   204    0        0      172      0      1.4      2   \n",
       "3   56    1   1       120   236    0        1      178      0      0.8      2   \n",
       "4   57    0   0       120   354    0        1      163      1      0.6      2   \n",
       "\n",
       "   ca  thal  target  \n",
       "0   0     1       1  \n",
       "1   0     2       1  \n",
       "2   0     2       1  \n",
       "3   0     2       1  \n",
       "4   0     2       1  "
      ]
     },
     "execution_count": 3,
     "metadata": {},
     "output_type": "execute_result"
    }
   ],
   "source": [
    "# Mostramos la tabla\n",
    "heart.head(5)"
   ]
  },
  {
   "cell_type": "markdown",
   "id": "be208fa6",
   "metadata": {},
   "source": [
    "La tabla consiste en una serie de características (algunas numéricas, otras de clasificación), las cuales son: \n",
    "1. age: edad\n",
    "2. sex: sexo\n",
    "3. cp: chest pain type (4 values)\n",
    "4. trestbps: resting blood pressure\n",
    "5. chol: serum cholestoral in mg/dl\n",
    "6. fbs: fasting blood sugar > 120 mg/dl\n",
    "7. restecg: resting electrocardiographic results (values 0,1,2)\n",
    "8. thalach: maximum heart rate achieved\n",
    "9. exang: exercise induced angina\n",
    "10. oldspeak: oldpeak = ST depression induced by exercise relative to rest\n",
    "11. slope: the slope of the peak exercise ST segment\n",
    "12. ca: number of major vessels (0-3) colored by flourosopy\n",
    "13. thal: thal: 3 = normal; 6 = fixed defect; 7 = reversable defect"
   ]
  },
  {
   "cell_type": "code",
   "execution_count": 4,
   "id": "24c3a629",
   "metadata": {},
   "outputs": [
    {
     "data": {
      "text/plain": [
       "(303, 14)"
      ]
     },
     "execution_count": 4,
     "metadata": {},
     "output_type": "execute_result"
    }
   ],
   "source": [
    "# Vemos la forma de la tabla\n",
    "heart.shape"
   ]
  },
  {
   "cell_type": "markdown",
   "id": "1ee075e5",
   "metadata": {},
   "source": [
    "Es decir, tenemos una tabla de 303 registros o filas y 14 columnas."
   ]
  },
  {
   "cell_type": "code",
   "execution_count": 5,
   "id": "af7ad09d",
   "metadata": {},
   "outputs": [
    {
     "data": {
      "text/plain": [
       "age           int64\n",
       "sex           int64\n",
       "cp            int64\n",
       "trestbps      int64\n",
       "chol          int64\n",
       "fbs           int64\n",
       "restecg       int64\n",
       "thalach       int64\n",
       "exang         int64\n",
       "oldpeak     float64\n",
       "slope         int64\n",
       "ca            int64\n",
       "thal          int64\n",
       "target        int64\n",
       "dtype: object"
      ]
     },
     "execution_count": 5,
     "metadata": {},
     "output_type": "execute_result"
    }
   ],
   "source": [
    "# Vemos el tipo de dato de cada columna\n",
    "heart.dtypes"
   ]
  },
  {
   "cell_type": "markdown",
   "id": "5b059265",
   "metadata": {},
   "source": [
    "En este caso, nuestra tabla ya está trabajada, lo que quiere decir que no necesitamos modificarla. "
   ]
  },
  {
   "cell_type": "code",
   "execution_count": 6,
   "id": "ecf2c13c",
   "metadata": {},
   "outputs": [
    {
     "data": {
      "text/plain": [
       "1    0.544554\n",
       "0    0.455446\n",
       "Name: target, dtype: float64"
      ]
     },
     "execution_count": 6,
     "metadata": {},
     "output_type": "execute_result"
    }
   ],
   "source": [
    "# Mostramos qué proporción de los valores 0 y 1 hay en la tabla\n",
    "heart['target'].value_counts(True)"
   ]
  },
  {
   "cell_type": "code",
   "execution_count": 7,
   "id": "99e4204f",
   "metadata": {},
   "outputs": [
    {
     "data": {
      "text/plain": [
       "<seaborn.axisgrid.FacetGrid at 0x27d96d30af0>"
      ]
     },
     "execution_count": 7,
     "metadata": {},
     "output_type": "execute_result"
    },
    {
     "data": {
      "image/png": "[encoded data removed]",
      "text/plain": [
       "<Figure size 216x216 with 1 Axes>"
      ]
     },
     "metadata": {
      "needs_background": "light"
     },
     "output_type": "display_data"
    }
   ],
   "source": [
    "# Visualizamos gráficamente esta proporción\n",
    "import seaborn as sns\n",
    "sns.displot(heart['target'], height=3)"
   ]
  },
  {
   "cell_type": "code",
   "execution_count": 8,
   "id": "282fe017",
   "metadata": {},
   "outputs": [],
   "source": [
    "# Importamos la regresión, la partición (entrenamiento y prueba) y las métricas\n",
    "\n",
    "from sklearn.linear_model import LogisticRegression\n",
    "from sklearn.model_selection import train_test_split\n",
    "from sklearn import metrics"
   ]
  },
  {
   "cell_type": "code",
   "execution_count": 9,
   "id": "9121a26a",
   "metadata": {},
   "outputs": [
    {
     "data": {
      "text/plain": [
       "Index(['age', 'sex', 'cp', 'trestbps', 'chol', 'fbs', 'restecg', 'thalach',\n",
       "       'exang', 'oldpeak', 'slope', 'ca', 'thal', 'target'],\n",
       "      dtype='object')"
      ]
     },
     "execution_count": 9,
     "metadata": {},
     "output_type": "execute_result"
    }
   ],
   "source": [
    "# Mostramos las columnas\n",
    "heart.columns"
   ]
  },
  {
   "cell_type": "code",
   "execution_count": 10,
   "id": "45cdaee2",
   "metadata": {},
   "outputs": [],
   "source": [
    "# Seleccionamos la variable objetivo que es 'target' y las demás columnas como variables independientes\n",
    "variables_independientes = heart[['age', 'sex', 'cp', 'trestbps', 'chol', 'fbs', 'restecg', 'thalach',\n",
    "       'exang', 'oldpeak', 'slope', 'ca', 'thal']]\n",
    "\n",
    "variable_objetivo = heart['target']"
   ]
  },
  {
   "cell_type": "code",
   "execution_count": 11,
   "id": "a2eb3abc",
   "metadata": {},
   "outputs": [],
   "source": [
    "# Particionamos la tabla (80% entrenamiento, 20% prueba)\n",
    "X = variables_independientes\n",
    "y = variable_objetivo\n",
    "\n",
    "X_train, X_test, y_train, y_test = train_test_split(X, y, test_size=0.2, random_state=42)"
   ]
  },
  {
   "cell_type": "code",
   "execution_count": 12,
   "id": "a76186e8",
   "metadata": {},
   "outputs": [],
   "source": [
    "# Creamos el modelo\n",
    "modelo = LogisticRegression(solver=\"liblinear\")"
   ]
  },
  {
   "cell_type": "markdown",
   "id": "e29e3141",
   "metadata": {},
   "source": [
    "El parámetro solver=\"liblinear\" se utiliza para cuando tu clasificación sólo puede tomar 2 valores (en este caso, 0 y 1). Si no incluyes el parámetro antes mencionado entonces el programa lo interpreta como si tuvieras una clasificación multiclase."
   ]
  },
  {
   "cell_type": "code",
   "execution_count": 13,
   "id": "b642d67d",
   "metadata": {},
   "outputs": [
    {
     "data": {
      "text/plain": [
       "LogisticRegression(solver='liblinear')"
      ]
     },
     "execution_count": 13,
     "metadata": {},
     "output_type": "execute_result"
    }
   ],
   "source": [
    "#Entrenamos el modelo\n",
    "modelo.fit(X_train, y_train)"
   ]
  },
  {
   "cell_type": "code",
   "execution_count": 14,
   "id": "27a51919",
   "metadata": {},
   "outputs": [],
   "source": [
    "# Hacemos el predict\n",
    "predicciones = modelo.predict(X_test)\n",
    "clases_reales = y_test\n",
    "predicciones_probabilidades = modelo.predict_proba(X_test)"
   ]
  },
  {
   "cell_type": "code",
   "execution_count": 15,
   "id": "2e490333",
   "metadata": {},
   "outputs": [
    {
     "data": {
      "text/plain": [
       "[(0, 0),\n",
       " (0, 1),\n",
       " (1, 1),\n",
       " (0, 0),\n",
       " (1, 1),\n",
       " (1, 1),\n",
       " (1, 1),\n",
       " (0, 0),\n",
       " (0, 0),\n",
       " (1, 0),\n",
       " (1, 1),\n",
       " (1, 0),\n",
       " (1, 1),\n",
       " (0, 0),\n",
       " (1, 1)]"
      ]
     },
     "execution_count": 15,
     "metadata": {},
     "output_type": "execute_result"
    }
   ],
   "source": [
    "# Función para comparar los valores reales vs los predichos\n",
    "\n",
    "def tupla_clase_prediccion(y_real, y_pred):\n",
    "    return list(zip(y_real, y_pred))\n",
    "\n",
    "tupla_clase_prediccion(clases_reales, predicciones)[:15]"
   ]
  },
  {
   "cell_type": "markdown",
   "id": "08b9fc3f",
   "metadata": {},
   "source": [
    "Este tipo de clasificación nos lleva a computar 4 tipos de observaciones:\n",
    "    - Verdaderos Positivos\n",
    "    - Verdaderos Negativos\n",
    "    - Falsos Positivos\n",
    "    - Falsos Negativos"
   ]
  },
  {
   "cell_type": "code",
   "execution_count": 16,
   "id": "79807eae",
   "metadata": {},
   "outputs": [
    {
     "name": "stdout",
     "output_type": "stream",
     "text": [
      "\n",
      "Verdaderos Positivos: 28\n",
      "Verdaderos Negativos: 25\n",
      "Falsos Positivos: 4\n",
      "Falsos Negativos: 4\n",
      "\n"
     ]
    }
   ],
   "source": [
    "def VP(clases_reales, predicciones):\n",
    "    par_clase_prediccion = tupla_clase_prediccion(clases_reales, predicciones)\n",
    "    return len([obs for obs in par_clase_prediccion if obs[0]==1 and obs[1]==1])\n",
    "\n",
    "def VN(clases_reales, predicciones):\n",
    "    par_clase_prediccion = tupla_clase_prediccion(clases_reales, predicciones)\n",
    "    return len([obs for obs in par_clase_prediccion if obs[0]==0 and obs[1]==0])\n",
    "    \n",
    "def FP(clases_reales, predicciones):\n",
    "    par_clase_prediccion = tupla_clase_prediccion(clases_reales, predicciones)\n",
    "    return len([obs for obs in par_clase_prediccion if obs[0]==0 and obs[1]==1])\n",
    "\n",
    "def FN(clases_reales, predicciones):\n",
    "    par_clase_prediccion = tupla_clase_prediccion(clases_reales, predicciones)\n",
    "    return len([obs for obs in par_clase_prediccion if obs[0]==1 and obs[1]==0])\n",
    "\n",
    "\n",
    "print(\"\"\"\n",
    "Verdaderos Positivos: {}\n",
    "Verdaderos Negativos: {}\n",
    "Falsos Positivos: {}\n",
    "Falsos Negativos: {}\n",
    "\"\"\".format(\n",
    "    VP(clases_reales, predicciones),\n",
    "    VN(clases_reales, predicciones),\n",
    "    FP(clases_reales, predicciones),\n",
    "    FN(clases_reales, predicciones)    \n",
    "))"
   ]
  },
  {
   "cell_type": "code",
   "execution_count": 17,
   "id": "7a0afe9a",
   "metadata": {},
   "outputs": [
    {
     "data": {
      "text/plain": [
       "0.8688524590163934"
      ]
     },
     "execution_count": 17,
     "metadata": {},
     "output_type": "execute_result"
    }
   ],
   "source": [
    "# Para la exactitud:\n",
    "def exactitud(clases_reales, predicciones):\n",
    "    vp = VP(clases_reales, predicciones)\n",
    "    vn = VN(clases_reales, predicciones)\n",
    "    return (vp+vn) / len(clases_reales)\n",
    "\n",
    "exactitud(clases_reales, predicciones)"
   ]
  },
  {
   "cell_type": "code",
   "execution_count": 18,
   "id": "08f08012",
   "metadata": {},
   "outputs": [
    {
     "data": {
      "text/plain": [
       "0.8688524590163934"
      ]
     },
     "execution_count": 18,
     "metadata": {},
     "output_type": "execute_result"
    }
   ],
   "source": [
    "# También se puede hacer desde sklearn como:\n",
    "metrics.accuracy_score(clases_reales, predicciones)"
   ]
  },
  {
   "cell_type": "code",
   "execution_count": 19,
   "id": "993fe2c1",
   "metadata": {},
   "outputs": [
    {
     "data": {
      "text/plain": [
       "0.875"
      ]
     },
     "execution_count": 19,
     "metadata": {},
     "output_type": "execute_result"
    }
   ],
   "source": [
    "#Para la precisión (para binaria):\n",
    "def precision(clases_reales, predicciones):\n",
    "    vp = VP(clases_reales, predicciones)\n",
    "    fp = FP(clases_reales, predicciones)\n",
    "    try:\n",
    "        return vp / (vp+fp)\n",
    "    except ZeroDivisionError:\n",
    "        pass\n",
    "\n",
    "precision(clases_reales, predicciones)"
   ]
  },
  {
   "cell_type": "code",
   "execution_count": 20,
   "id": "d36cf82b",
   "metadata": {},
   "outputs": [
    {
     "data": {
      "text/plain": [
       "0.8311987704918032"
      ]
     },
     "execution_count": 20,
     "metadata": {},
     "output_type": "execute_result"
    }
   ],
   "source": [
    "# Desde sklearn (para multiclase):\n",
    "metrics.average_precision_score(clases_reales, predicciones)"
   ]
  },
  {
   "cell_type": "code",
   "execution_count": 21,
   "id": "5bae547d",
   "metadata": {},
   "outputs": [
    {
     "data": {
      "text/plain": [
       "0.875"
      ]
     },
     "execution_count": 21,
     "metadata": {},
     "output_type": "execute_result"
    }
   ],
   "source": [
    "# Para sensibilidad:\n",
    "def sensibilidad(clases_reales, predicciones):\n",
    "    vp = VP(clases_reales, predicciones)\n",
    "    fn = FN(clases_reales, predicciones)\n",
    "    return vp / (vp+fn)\n",
    "\n",
    "sensibilidad(clases_reales, predicciones)"
   ]
  },
  {
   "cell_type": "code",
   "execution_count": 22,
   "id": "9c19e99a",
   "metadata": {},
   "outputs": [
    {
     "data": {
      "text/plain": [
       "0.875"
      ]
     },
     "execution_count": 22,
     "metadata": {},
     "output_type": "execute_result"
    }
   ],
   "source": [
    "# Desde sklearn:\n",
    "metrics.recall_score(clases_reales, predicciones)"
   ]
  },
  {
   "cell_type": "code",
   "execution_count": 23,
   "id": "4c226550",
   "metadata": {},
   "outputs": [
    {
     "data": {
      "text/plain": [
       "array([[25,  4],\n",
       "       [ 4, 28]], dtype=int64)"
      ]
     },
     "execution_count": 23,
     "metadata": {},
     "output_type": "execute_result"
    }
   ],
   "source": [
    "# Matriz de confusión\n",
    "\n",
    "from sklearn.metrics import confusion_matrix\n",
    "confusion_matrix(clases_reales, predicciones)"
   ]
  },
  {
   "cell_type": "code",
   "execution_count": 24,
   "id": "0f22c7aa",
   "metadata": {},
   "outputs": [
    {
     "data": {
      "text/plain": [
       "0.875"
      ]
     },
     "execution_count": 24,
     "metadata": {},
     "output_type": "execute_result"
    }
   ],
   "source": [
    "# Para el F1 Score:\n",
    "\n",
    "def puntuacion_f1(clases_reales, predicciones):\n",
    "    precision_preds = precision(clases_reales, predicciones)\n",
    "    sensibilidad_preds = sensibilidad(clases_reales, predicciones)\n",
    "    return 2*(precision_preds*sensibilidad_preds)/(precision_preds+sensibilidad_preds)\n",
    "\n",
    "puntuacion_f1(clases_reales, predicciones)"
   ]
  },
  {
   "cell_type": "code",
   "execution_count": 25,
   "id": "acffcb2c",
   "metadata": {},
   "outputs": [
    {
     "data": {
      "text/plain": [
       "0.875"
      ]
     },
     "execution_count": 25,
     "metadata": {},
     "output_type": "execute_result"
    }
   ],
   "source": [
    "metrics.f1_score(clases_reales, predicciones)"
   ]
  },
  {
   "cell_type": "code",
   "execution_count": 26,
   "id": "9a80e894",
   "metadata": {},
   "outputs": [
    {
     "data": {
      "text/plain": [
       "0.13793103448275862"
      ]
     },
     "execution_count": 26,
     "metadata": {},
     "output_type": "execute_result"
    }
   ],
   "source": [
    "# Ratio de falsa alarma\n",
    "def fpr(clases_reales, predicciones):\n",
    "    return (FP(clases_reales, predicciones) / (\n",
    "             FP(clases_reales, predicciones) + VN(clases_reales, predicciones)\n",
    "             )\n",
    "           )\n",
    "fpr(clases_reales, predicciones)"
   ]
  },
  {
   "cell_type": "markdown",
   "id": "ac10d5d5",
   "metadata": {},
   "source": [
    "Procedemos a realizar una tabla con los valores reales y los valores predichos, y sus correpondientes probabilidades de obtenerlos."
   ]
  },
  {
   "cell_type": "code",
   "execution_count": 27,
   "id": "8abb5811",
   "metadata": {},
   "outputs": [],
   "source": [
    "df = pd.DataFrame({\"clase_real\":clases_reales,\n",
    "                   \"clase_pred\": predicciones,\n",
    "                   \"probabilidades_0\":modelo.predict_proba(X_test)[:,0],\n",
    "                    \"probabilidades_1\":modelo.predict_proba(X_test)[:,1],\n",
    "                  })\n",
    "df[\"sum_probas\"] = df.probabilidades_0 + df.probabilidades_1"
   ]
  },
  {
   "cell_type": "code",
   "execution_count": 28,
   "id": "6179f669",
   "metadata": {},
   "outputs": [
    {
     "data": {
      "text/html": [
       "<div>\n",
       "<style scoped>\n",
       "    .dataframe tbody tr th:only-of-type {\n",
       "        vertical-align: middle;\n",
       "    }\n",
       "\n",
       "    .dataframe tbody tr th {\n",
       "        vertical-align: top;\n",
       "    }\n",
       "\n",
       "    .dataframe thead th {\n",
       "        text-align: right;\n",
       "    }\n",
       "</style>\n",
       "<table border=\"1\" class=\"dataframe\">\n",
       "  <thead>\n",
       "    <tr style=\"text-align: right;\">\n",
       "      <th></th>\n",
       "      <th>clase_real</th>\n",
       "      <th>clase_pred</th>\n",
       "      <th>probabilidades_0</th>\n",
       "      <th>probabilidades_1</th>\n",
       "      <th>sum_probas</th>\n",
       "    </tr>\n",
       "  </thead>\n",
       "  <tbody>\n",
       "    <tr>\n",
       "      <th>179</th>\n",
       "      <td>0</td>\n",
       "      <td>0</td>\n",
       "      <td>0.922471</td>\n",
       "      <td>0.077529</td>\n",
       "      <td>1.0</td>\n",
       "    </tr>\n",
       "    <tr>\n",
       "      <th>228</th>\n",
       "      <td>0</td>\n",
       "      <td>1</td>\n",
       "      <td>0.261241</td>\n",
       "      <td>0.738759</td>\n",
       "      <td>1.0</td>\n",
       "    </tr>\n",
       "    <tr>\n",
       "      <th>111</th>\n",
       "      <td>1</td>\n",
       "      <td>1</td>\n",
       "      <td>0.144342</td>\n",
       "      <td>0.855658</td>\n",
       "      <td>1.0</td>\n",
       "    </tr>\n",
       "    <tr>\n",
       "      <th>246</th>\n",
       "      <td>0</td>\n",
       "      <td>0</td>\n",
       "      <td>0.971653</td>\n",
       "      <td>0.028347</td>\n",
       "      <td>1.0</td>\n",
       "    </tr>\n",
       "    <tr>\n",
       "      <th>60</th>\n",
       "      <td>1</td>\n",
       "      <td>1</td>\n",
       "      <td>0.060461</td>\n",
       "      <td>0.939539</td>\n",
       "      <td>1.0</td>\n",
       "    </tr>\n",
       "    <tr>\n",
       "      <th>9</th>\n",
       "      <td>1</td>\n",
       "      <td>1</td>\n",
       "      <td>0.087088</td>\n",
       "      <td>0.912912</td>\n",
       "      <td>1.0</td>\n",
       "    </tr>\n",
       "    <tr>\n",
       "      <th>119</th>\n",
       "      <td>1</td>\n",
       "      <td>1</td>\n",
       "      <td>0.411259</td>\n",
       "      <td>0.588741</td>\n",
       "      <td>1.0</td>\n",
       "    </tr>\n",
       "    <tr>\n",
       "      <th>223</th>\n",
       "      <td>0</td>\n",
       "      <td>0</td>\n",
       "      <td>0.998248</td>\n",
       "      <td>0.001752</td>\n",
       "      <td>1.0</td>\n",
       "    </tr>\n",
       "    <tr>\n",
       "      <th>268</th>\n",
       "      <td>0</td>\n",
       "      <td>0</td>\n",
       "      <td>0.994980</td>\n",
       "      <td>0.005020</td>\n",
       "      <td>1.0</td>\n",
       "    </tr>\n",
       "    <tr>\n",
       "      <th>33</th>\n",
       "      <td>1</td>\n",
       "      <td>0</td>\n",
       "      <td>0.531011</td>\n",
       "      <td>0.468989</td>\n",
       "      <td>1.0</td>\n",
       "    </tr>\n",
       "  </tbody>\n",
       "</table>\n",
       "</div>"
      ],
      "text/plain": [
       "     clase_real  clase_pred  probabilidades_0  probabilidades_1  sum_probas\n",
       "179           0           0          0.922471          0.077529         1.0\n",
       "228           0           1          0.261241          0.738759         1.0\n",
       "111           1           1          0.144342          0.855658         1.0\n",
       "246           0           0          0.971653          0.028347         1.0\n",
       "60            1           1          0.060461          0.939539         1.0\n",
       "9             1           1          0.087088          0.912912         1.0\n",
       "119           1           1          0.411259          0.588741         1.0\n",
       "223           0           0          0.998248          0.001752         1.0\n",
       "268           0           0          0.994980          0.005020         1.0\n",
       "33            1           0          0.531011          0.468989         1.0"
      ]
     },
     "execution_count": 28,
     "metadata": {},
     "output_type": "execute_result"
    }
   ],
   "source": [
    "# Vemos los primeros 10 resultados\n",
    "df.head(10)"
   ]
  },
  {
   "cell_type": "code",
   "execution_count": 29,
   "id": "1cb19ffe",
   "metadata": {},
   "outputs": [],
   "source": [
    "def probabilidades_a_clases(predicciones_probabilidades, umbral=0.5):\n",
    "    predicciones = np.zeros([len(predicciones_probabilidades), ])\n",
    "    predicciones[predicciones_probabilidades[:,1]>=umbral] = 1\n",
    "    return predicciones"
   ]
  },
  {
   "cell_type": "code",
   "execution_count": 30,
   "id": "b322d145",
   "metadata": {},
   "outputs": [
    {
     "data": {
      "text/plain": [
       "array([[0.92247083, 0.07752917],\n",
       "       [0.26124107, 0.73875893],\n",
       "       [0.14434164, 0.85565836],\n",
       "       [0.97165312, 0.02834688],\n",
       "       [0.06046099, 0.93953901],\n",
       "       [0.08708764, 0.91291236],\n",
       "       [0.41125889, 0.58874111],\n",
       "       [0.99824786, 0.00175214],\n",
       "       [0.99497986, 0.00502014],\n",
       "       [0.53101074, 0.46898926]])"
      ]
     },
     "execution_count": 30,
     "metadata": {},
     "output_type": "execute_result"
    }
   ],
   "source": [
    "predicciones_probabilidades[:10]"
   ]
  },
  {
   "cell_type": "code",
   "execution_count": 31,
   "id": "028c542d",
   "metadata": {},
   "outputs": [
    {
     "data": {
      "text/plain": [
       "array([0., 0., 0., 0., 1., 1., 0., 0., 0., 0.])"
      ]
     },
     "execution_count": 31,
     "metadata": {},
     "output_type": "execute_result"
    }
   ],
   "source": [
    "probabilidades_a_clases(predicciones_probabilidades, umbral=0.90)[:10]"
   ]
  },
  {
   "cell_type": "markdown",
   "id": "d2ec10a1",
   "metadata": {},
   "source": [
    "El umbral nos permite asegurarnos de que todo aquél con una probabilidad de tener un problema cardíaco mayor a 90% se clasificará como 1, de lo contrario como 0. El umbral por defecto es 0.5, es decir, la probabilidad por encima de 0.5 la clasifica como 1 y aquellas por debajo de 0.5 las clasifica como 0."
   ]
  },
  {
   "cell_type": "code",
   "execution_count": 32,
   "id": "61f63b6c",
   "metadata": {},
   "outputs": [],
   "source": [
    "def evaluar_umbral(umbral):\n",
    "    predicciones_en_umbral = probabilidades_a_clases(predicciones_probabilidades, umbral)\n",
    "    precision_umbral = precision(clases_reales, predicciones_en_umbral)\n",
    "    sensibilidad_umbral = metrics.recall_score(clases_reales, predicciones_en_umbral)\n",
    "    fpr_umbral = fpr(clases_reales, predicciones_en_umbral)\n",
    "    return precision_umbral, sensibilidad_umbral, fpr_umbral\n",
    "\n",
    "rango_umbral = np.linspace(0., 1., 1000)\n",
    "sensibilidad_umbrales = []\n",
    "precision_umbrales = []\n",
    "fpr_umbrales = []\n",
    "\n",
    "for umbral in rango_umbral:\n",
    "    precision_umbral, sensibilidad_umbral, fpr_umbral = evaluar_umbral(umbral)\n",
    "    precision_umbrales.append(precision_umbral)\n",
    "    sensibilidad_umbrales.append(sensibilidad_umbral)\n",
    "    fpr_umbrales.append(fpr_umbral)"
   ]
  },
  {
   "cell_type": "code",
   "execution_count": 33,
   "id": "83d35dc0",
   "metadata": {},
   "outputs": [
    {
     "data": {
      "image/png": "[encoded data removed]",
      "text/plain": [
       "<Figure size 432x288 with 1 Axes>"
      ]
     },
     "metadata": {
      "needs_background": "light"
     },
     "output_type": "display_data"
    }
   ],
   "source": [
    "#Visualizamos la curva Precision-Recall\n",
    "\n",
    "plt.plot(sensibilidad_umbrales, precision_umbrales);\n",
    "plt.ylabel(\"Precision\")\n",
    "plt.xlabel(\"Ratio de Verdaderos positivos (sensibilidad)\")\n",
    "plt.title(\"Curva Precision-Recall\");"
   ]
  },
  {
   "cell_type": "code",
   "execution_count": 34,
   "id": "3bbb8778",
   "metadata": {},
   "outputs": [
    {
     "data": {
      "image/png": "[encoded data removed]",
      "text/plain": [
       "<Figure size 432x288 with 1 Axes>"
      ]
     },
     "metadata": {
      "needs_background": "light"
     },
     "output_type": "display_data"
    }
   ],
   "source": [
    "# Visualizamos el área bajo la curva Precision-Recall\n",
    "\n",
    "def grafica_precision_recall(clases_reales, predicciones_probabilidades):\n",
    "    precision_, recall_, _ = metrics.precision_recall_curve(\n",
    "        clases_reales, predicciones_probabilidades[:,1])\n",
    "\n",
    "    plt.step(recall_, precision_, color='b', alpha=0.2,\n",
    "         where='post')\n",
    "    plt.fill_between(recall_, precision_, step='post', alpha=0.2,\n",
    "                 color='b')\n",
    "\n",
    "    plt.xlabel('Recall')\n",
    "    plt.ylabel('Precision')\n",
    "    plt.ylim([0.0, 1.05])\n",
    "    plt.xlim([0.0, 1.05])\n",
    "    plt.title('Curva Precision-Recall');\n",
    "    plt.show()\n",
    "\n",
    "\n",
    "grafica_precision_recall(clases_reales, predicciones_probabilidades)\n",
    "# Recall es sensibilidad"
   ]
  },
  {
   "cell_type": "code",
   "execution_count": 35,
   "id": "38f2c8b8",
   "metadata": {},
   "outputs": [
    {
     "data": {
      "image/png": "[encoded data removed]",
      "text/plain": [
       "<Figure size 432x288 with 1 Axes>"
      ]
     },
     "metadata": {
      "needs_background": "light"
     },
     "output_type": "display_data"
    }
   ],
   "source": [
    "#Visualizamos la Curva ROC\n",
    "\n",
    "plt.plot(fpr_umbrales, sensibilidad_umbrales);\n",
    "plt.xlabel(\"Ratio de Falsos positivos (FPR)\")\n",
    "plt.ylabel(\"Ratio de Verdaderos positivos (sensibilidad)\")\n",
    "plt.title(\"Curva ROC\");"
   ]
  },
  {
   "cell_type": "markdown",
   "id": "57d90716",
   "metadata": {},
   "source": [
    "La Curva ROC es una representación gráfica de la sensibilidad frente a la especificidad para un sistema clasificador binario según se varía el umbral de discriminación. Entre más se asemeje la figura a un cuadrado, mejor es el modelo."
   ]
  },
  {
   "cell_type": "code",
   "execution_count": 36,
   "id": "82d57f87",
   "metadata": {},
   "outputs": [
    {
     "data": {
      "text/plain": [
       "0.8685344827586206"
      ]
     },
     "execution_count": 36,
     "metadata": {},
     "output_type": "execute_result"
    }
   ],
   "source": [
    "metrics.roc_auc_score(clases_reales, predicciones)"
   ]
  },
  {
   "cell_type": "markdown",
   "id": "c5b6eea1",
   "metadata": {},
   "source": [
    "La métrica roc auc representa el área bajo la Curva ROC; debe de ser cercana a 1 para tener un modelo más confiable."
   ]
  },
  {
   "cell_type": "code",
   "execution_count": 37,
   "id": "c11639dc",
   "metadata": {},
   "outputs": [
    {
     "data": {
      "image/png": "[encoded data removed]",
      "text/plain": [
       "<Figure size 432x288 with 1 Axes>"
      ]
     },
     "metadata": {
      "needs_background": "light"
     },
     "output_type": "display_data"
    }
   ],
   "source": [
    "def grafica_curva_auc(clases_reales, predicciones, predicciones_probabilidades):\n",
    "    fpr, tpr, _ = metrics.roc_curve(clases_reales, predicciones_probabilidades[:,1])\n",
    "    roc_auc = metrics.roc_auc_score(clases_reales, predicciones)\n",
    "    plt.figure()\n",
    "\n",
    "    plt.plot(fpr, tpr, color='darkorange',\n",
    "         lw=2, label='Curva ROC (area = %0.2f)' % roc_auc)\n",
    "    plt.plot([0, 1], [0, 1], color='navy', lw=2, linestyle='--', label=\"estimador aleatorio\")\n",
    "    \n",
    "    plt.xlim([0.0, 1.0])\n",
    "    plt.ylim([0.0, 1.05])\n",
    "    plt.xlabel('FPR')\n",
    "    plt.ylabel('TPR (recall)')\n",
    "    plt.title('Curva ROC')\n",
    "    plt.legend(loc=\"lower right\")\n",
    "    plt.show();\n",
    "\n",
    "grafica_curva_auc(clases_reales, predicciones, predicciones_probabilidades)"
   ]
  },
  {
   "cell_type": "markdown",
   "id": "d6d87ab0",
   "metadata": {},
   "source": [
    "El modelo será mejor entre más por encima de la diagonal se encuentre la Curva ROC."
   ]
  },
  {
   "cell_type": "code",
   "execution_count": 38,
   "id": "27ef37e4",
   "metadata": {},
   "outputs": [
    {
     "name": "stdout",
     "output_type": "stream",
     "text": [
      "\n",
      "    Exactitud: 0.869\n",
      "    Precisión: 0.831\n",
      "    Sensibilidad: 0.875\n",
      "    Area bajo curva (AUC): 0.869\n",
      "    Puntuación F1: 0.875\n",
      "    \n"
     ]
    }
   ],
   "source": [
    "# Evaluamos qué tan bueno (o malo) fue nuestro modelo \n",
    "    \n",
    "def evaluar_modelo(clases_reales, predicciones, probabilidades):\n",
    "    exactitud = metrics.accuracy_score(clases_reales, predicciones)\n",
    "    precision = metrics.average_precision_score(clases_reales, predicciones)\n",
    "    sensibilidad = metrics.recall_score(clases_reales, predicciones)\n",
    "    roc_auc = metrics.roc_auc_score(clases_reales, predicciones)\n",
    "    f1 = metrics.f1_score(clases_reales, predicciones)\n",
    "    print(\"\"\"\n",
    "    Exactitud: {:.3f}\n",
    "    Precisión: {:.3f}\n",
    "    Sensibilidad: {:.3f}\n",
    "    Area bajo curva (AUC): {:.3f}\n",
    "    Puntuación F1: {:.3f}\n",
    "    \"\"\".format(\n",
    "        exactitud, \n",
    "        precision,\n",
    "        sensibilidad,\n",
    "        roc_auc,\n",
    "        f1\n",
    "    ))\n",
    "    \n",
    "evaluar_modelo(clases_reales, predicciones, predicciones_probabilidades)"
   ]
  },
  {
   "cell_type": "markdown",
   "id": "42a14db8",
   "metadata": {},
   "source": [
    "Todos estos parámetros deben de aproximar su valor a 1. En este caso podemos decir que nuetro modelo fue muy bueno, más no excelente. De haber sido excelente, nuestros valores anteriores deberían haber estado por encima de 0.90."
   ]
  }
 ],
 "metadata": {
  "kernelspec": {
   "display_name": "Python 3 (ipykernel)",
   "language": "python",
   "name": "python3"
  },
  "language_info": {
   "codemirror_mode": {
    "name": "ipython",
    "version": 3
   },
   "file_extension": ".py",
   "mimetype": "text/x-python",
   "name": "python",
   "nbconvert_exporter": "python",
   "pygments_lexer": "ipython3",
   "version": "3.8.0"
  }
 },
 "nbformat": 4,
 "nbformat_minor": 5
}
